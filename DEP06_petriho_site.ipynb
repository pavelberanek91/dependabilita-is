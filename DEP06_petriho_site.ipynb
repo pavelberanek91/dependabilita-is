{
 "cells": [
  {
   "cell_type": "code",
   "execution_count": null,
   "metadata": {},
   "outputs": [],
   "source": [
    "#brew install graphviz\n",
    "from snakes.nets import *\n",
    "\n",
    "#name\n",
    "pnet = PetriNet(\"dep system\")\n",
    "\n",
    "#name, optional: init_marking\n",
    "pnet.add_place(Place(\"s1\", [0])) \n",
    "\n",
    "#name, optinal: guard condition (default = True)\n",
    "pnet.add_transition(Transition(\"t1\", Expression(\"x<5\")))\n",
    "\n",
    "#\n",
    "pnet.add_input(\"s1\", \"t1\", Variable(\"x\"))\n",
    "\n",
    "#\n",
    "pnet.add_output(\"s1\", \"t1\", Expression(\"x+1\"))\n",
    "\n",
    "#\n",
    "print(pnet.get_marking())\n",
    "\n",
    "#\n",
    "pnet.transition(\"t1\").fire(Substitution(x=0))\n",
    "pnet.transition(\"t1\").fire(Substitution(x=0))\n",
    "\n",
    "\n",
    "print(pnet.get_marking())"
   ]
  }
 ],
 "metadata": {
  "language_info": {
   "name": "python"
  },
  "orig_nbformat": 4
 },
 "nbformat": 4,
 "nbformat_minor": 2
}
